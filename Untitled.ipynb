{
 "cells": [
  {
   "cell_type": "code",
   "execution_count": null,
   "metadata": {},
   "outputs": [],
   "source": [
    "def RK4(f, fpar, t0, tn, x0, steps) := \n",
    " Module[{told = t0, xold = x0, tnew, xnew, k1, k2, k3, k4, \n",
    "   sollist = {{t0, x0}}, h},\n",
    "  h = N[(tn - t0)/steps];\n",
    "  Do[tnew = told + h;\n",
    "   k1 = f[told, xold, fpar];\n",
    "   k2 = f[told + h/2, xold + h*k1/2, fpar];\n",
    "   k3 = f[told + h/2, xold + h*k2/2, fpar];\n",
    "   k4 = f[told + h, xold + h*k3, fpar];\n",
    "   xnew = xold + h*(k1/6 + k2/3 + k3/3 + k4/6);\n",
    "   sollist = Append[sollist, {tnew, xnew}];\n",
    "   told = tnew;\n",
    "   xold = xnew,\n",
    "   steps];\n",
    "  Return[sollist]]"
   ]
  }
 ],
 "metadata": {
  "kernelspec": {
   "display_name": "Python 3",
   "language": "python",
   "name": "python3"
  },
  "language_info": {
   "codemirror_mode": {
    "name": "ipython",
    "version": 3
   },
   "file_extension": ".py",
   "mimetype": "text/x-python",
   "name": "python",
   "nbconvert_exporter": "python",
   "pygments_lexer": "ipython3",
   "version": "3.6.9"
  }
 },
 "nbformat": 4,
 "nbformat_minor": 2
}
